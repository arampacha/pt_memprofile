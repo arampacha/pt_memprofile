{
 "cells": [
  {
   "cell_type": "code",
   "execution_count": null,
   "metadata": {},
   "outputs": [],
   "source": [
    "# default_exp core"
   ]
  },
  {
   "cell_type": "markdown",
   "metadata": {},
   "source": [
    "# Core functionality\n",
    "\n",
    "> Memory profiling."
   ]
  },
  {
   "cell_type": "code",
   "execution_count": null,
   "metadata": {},
   "outputs": [],
   "source": [
    "#hide\n",
    "from nbdev.showdoc import *"
   ]
  },
  {
   "cell_type": "markdown",
   "metadata": {},
   "source": [
    "## Memory hooks\n",
    "\n",
    "Inspired by https://www.sicara.ai/blog/2019-28-10-deep-learning-memory-usage-and-pytorch-optimization-tricks"
   ]
  },
  {
   "cell_type": "code",
   "execution_count": null,
   "metadata": {},
   "outputs": [],
   "source": [
    "#export\n",
    "import torch\n",
    "from torch import Tensor\n",
    "import torch.nn as nn\n",
    "import torch.cuda.amp as amp\n",
    "from fastai.callback.all import Hooks, ShortEpochCallback, HookCallback, has_params\n",
    "from fastai.basics import *"
   ]
  },
  {
   "cell_type": "code",
   "execution_count": null,
   "metadata": {},
   "outputs": [],
   "source": [
    "#export\n",
    "def _generate_mem_hook(mem_log, idx, hook_type, experiment):\n",
    "    \"Hook function generator\"\n",
    "    def hook(m, *args):\n",
    "        inp_shape = args[0][0].shape\n",
    "        out_shape = args[1][0].shape if len(args)>1 else None\n",
    "        if len(mem_log) == 0: call_idx = 0\n",
    "        else: call_idx = mem_log[-1][\"call_idx\"] + 1\n",
    "        mem_all = torch.cuda.memory_allocated()\n",
    "        mem_reserved = torch.cuda.memory_reserved()\n",
    "        max_all = torch.cuda.max_memory_allocated()\n",
    "        torch.cuda.synchronize()\n",
    "        mem_log.append({\n",
    "            'layer_idx': idx,\n",
    "            'call_idx': call_idx,\n",
    "            'layer_type': type(m).__name__,\n",
    "            'experiment': experiment,\n",
    "            'hook_type': hook_type,\n",
    "            'mem_all': mem_all,\n",
    "            'mem_reservd': mem_reserved,\n",
    "            'max_all': max_all,\n",
    "            'input_shape': inp_shape,\n",
    "            'output_shape': out_shape,\n",
    "        })\n",
    "    return hook"
   ]
  },
  {
   "cell_type": "code",
   "execution_count": null,
   "metadata": {},
   "outputs": [],
   "source": [
    "#export\n",
    "class MemHooks(Hooks):\n",
    "    \"Creates hooks for logging memory stats\"\n",
    "    def __init__(self, ms, name=None):\n",
    "        self.hooks = []\n",
    "        self.mem_log = []\n",
    "        for i, m in enumerate(ms): self.register_memory_hooks(m, i, name=name)\n",
    "\n",
    "    def register_memory_hooks(self, m, i, name=None):\n",
    "        fs = {'pre':m.register_forward_pre_hook,\n",
    "              'fwd':m.register_forward_hook,\n",
    "              'bwd':m.register_backward_hook}\n",
    "        for hook_type in ['pre', 'fwd', 'bwd']:\n",
    "            self.hooks.append(fs[hook_type](_generate_mem_hook(self.mem_log, i, hook_type, name)))"
   ]
  },
  {
   "cell_type": "markdown",
   "metadata": {},
   "source": [
    "## Memory profiling functionality"
   ]
  },
  {
   "cell_type": "code",
   "execution_count": null,
   "metadata": {},
   "outputs": [],
   "source": [
    "#export\n",
    "def plot_log(mem_log:pd.DataFrame):\n",
    "    plt.plot(mem_log['call_idx'], mem_log['mem_all']/1024)\n",
    "    plt.ylabel('Memory allocated (Kb)');"
   ]
  },
  {
   "cell_type": "code",
   "execution_count": null,
   "metadata": {},
   "outputs": [],
   "source": [
    "#export\n",
    "def plot_logs(*mem_logs):\n",
    "    fig, ax = plt.subplots(1,1, figsize=(10,4))\n",
    "    legend = []\n",
    "    for log in mem_logs:\n",
    "        plt.plot(log['mem_all']/1024)\n",
    "        legend += [log.loc[0, 'experiment']]\n",
    "    if len(mem_logs) > 1: ax.legend(legend)\n",
    "    plt.ylabel('Memory allocated (Kb)')\n",
    "    plt.show()"
   ]
  },
  {
   "cell_type": "code",
   "execution_count": null,
   "metadata": {},
   "outputs": [],
   "source": [
    "#export\n",
    "def reset_grad(model:nn.Module):\n",
    "    for p in model.parameters():\n",
    "        p.grad = None"
   ]
  },
  {
   "cell_type": "code",
   "execution_count": null,
   "metadata": {},
   "outputs": [],
   "source": [
    "#export\n",
    "def memprofile(model:nn.Module, xb:Tensor, yb:Tensor, loss_func=CrossEntropyLossFlat(), plot=True, label=None, fp16=False):\n",
    "    \"Records memory stats for one forward-and-backward pass through the model with batch (xb, yb)\"\n",
    "    def forward_and_loss():\n",
    "        out = model(xb)\n",
    "        return loss_func(out, yb)\n",
    "    label = ifnone(label, type(model).__name__)\n",
    "    device = xb.device\n",
    "    model.to(device)\n",
    "    prealloc = torch.cuda.memory_allocated()\n",
    "    with MemHooks(flatten_model(model), label) as h:\n",
    "        if fp16: forward_and_loss = amp.autocast()(forward_and_loss)\n",
    "        loss = forward_and_loss()\n",
    "        loss.backward()\n",
    "        reset_grad(model)\n",
    "        mem_log = pd.DataFrame(h.mem_log, copy=True)\n",
    "    mem_log['mem_all'] = mem_log['mem_all'] - prealloc\n",
    "    if plot:\n",
    "        plot_log(mem_log)\n",
    "    return mem_log"
   ]
  },
  {
   "cell_type": "code",
   "execution_count": null,
   "metadata": {},
   "outputs": [],
   "source": [
    "#export\n",
    "def simple_model(ni=100, no=2, n=4):\n",
    "    layers = [nn.Linear(ni, ni) for i in range(n)] + [nn.Linear(ni,no)]\n",
    "    return nn.Sequential(*layers)"
   ]
  },
  {
   "cell_type": "code",
   "execution_count": null,
   "metadata": {},
   "outputs": [],
   "source": [
    "#cuda\n",
    "ni = 100\n",
    "no = 2\n",
    "xb, yb = torch.randn(32, ni).cuda(), torch.randint(no, (32,)).cuda()"
   ]
  },
  {
   "cell_type": "code",
   "execution_count": null,
   "metadata": {},
   "outputs": [
    {
     "data": {
      "text/html": [
       "<div>\n",
       "<style scoped>\n",
       "    .dataframe tbody tr th:only-of-type {\n",
       "        vertical-align: middle;\n",
       "    }\n",
       "\n",
       "    .dataframe tbody tr th {\n",
       "        vertical-align: top;\n",
       "    }\n",
       "\n",
       "    .dataframe thead th {\n",
       "        text-align: right;\n",
       "    }\n",
       "</style>\n",
       "<table border=\"1\" class=\"dataframe\">\n",
       "  <thead>\n",
       "    <tr style=\"text-align: right;\">\n",
       "      <th></th>\n",
       "      <th>layer_idx</th>\n",
       "      <th>call_idx</th>\n",
       "      <th>layer_type</th>\n",
       "      <th>experiment</th>\n",
       "      <th>hook_type</th>\n",
       "      <th>mem_all</th>\n",
       "      <th>mem_reservd</th>\n",
       "      <th>max_all</th>\n",
       "      <th>input_shape</th>\n",
       "      <th>output_shape</th>\n",
       "    </tr>\n",
       "  </thead>\n",
       "  <tbody>\n",
       "    <tr>\n",
       "      <th>0</th>\n",
       "      <td>0</td>\n",
       "      <td>0</td>\n",
       "      <td>Linear</td>\n",
       "      <td>Sequential</td>\n",
       "      <td>pre</td>\n",
       "      <td>0</td>\n",
       "      <td>2097152</td>\n",
       "      <td>178688</td>\n",
       "      <td>(32, 100)</td>\n",
       "      <td>None</td>\n",
       "    </tr>\n",
       "    <tr>\n",
       "      <th>1</th>\n",
       "      <td>0</td>\n",
       "      <td>1</td>\n",
       "      <td>Linear</td>\n",
       "      <td>Sequential</td>\n",
       "      <td>fwd</td>\n",
       "      <td>12800</td>\n",
       "      <td>2097152</td>\n",
       "      <td>191488</td>\n",
       "      <td>(32, 100)</td>\n",
       "      <td>(100,)</td>\n",
       "    </tr>\n",
       "    <tr>\n",
       "      <th>2</th>\n",
       "      <td>1</td>\n",
       "      <td>2</td>\n",
       "      <td>Linear</td>\n",
       "      <td>Sequential</td>\n",
       "      <td>pre</td>\n",
       "      <td>12800</td>\n",
       "      <td>2097152</td>\n",
       "      <td>191488</td>\n",
       "      <td>(32, 100)</td>\n",
       "      <td>None</td>\n",
       "    </tr>\n",
       "    <tr>\n",
       "      <th>3</th>\n",
       "      <td>1</td>\n",
       "      <td>3</td>\n",
       "      <td>Linear</td>\n",
       "      <td>Sequential</td>\n",
       "      <td>fwd</td>\n",
       "      <td>25600</td>\n",
       "      <td>2097152</td>\n",
       "      <td>204288</td>\n",
       "      <td>(32, 100)</td>\n",
       "      <td>(100,)</td>\n",
       "    </tr>\n",
       "    <tr>\n",
       "      <th>4</th>\n",
       "      <td>2</td>\n",
       "      <td>4</td>\n",
       "      <td>Linear</td>\n",
       "      <td>Sequential</td>\n",
       "      <td>pre</td>\n",
       "      <td>25600</td>\n",
       "      <td>2097152</td>\n",
       "      <td>204288</td>\n",
       "      <td>(32, 100)</td>\n",
       "      <td>None</td>\n",
       "    </tr>\n",
       "    <tr>\n",
       "      <th>5</th>\n",
       "      <td>2</td>\n",
       "      <td>5</td>\n",
       "      <td>Linear</td>\n",
       "      <td>Sequential</td>\n",
       "      <td>fwd</td>\n",
       "      <td>38400</td>\n",
       "      <td>2097152</td>\n",
       "      <td>217088</td>\n",
       "      <td>(32, 100)</td>\n",
       "      <td>(100,)</td>\n",
       "    </tr>\n",
       "    <tr>\n",
       "      <th>6</th>\n",
       "      <td>3</td>\n",
       "      <td>6</td>\n",
       "      <td>Linear</td>\n",
       "      <td>Sequential</td>\n",
       "      <td>pre</td>\n",
       "      <td>38400</td>\n",
       "      <td>2097152</td>\n",
       "      <td>217088</td>\n",
       "      <td>(32, 100)</td>\n",
       "      <td>None</td>\n",
       "    </tr>\n",
       "    <tr>\n",
       "      <th>7</th>\n",
       "      <td>3</td>\n",
       "      <td>7</td>\n",
       "      <td>Linear</td>\n",
       "      <td>Sequential</td>\n",
       "      <td>fwd</td>\n",
       "      <td>51200</td>\n",
       "      <td>2097152</td>\n",
       "      <td>229888</td>\n",
       "      <td>(32, 100)</td>\n",
       "      <td>(100,)</td>\n",
       "    </tr>\n",
       "    <tr>\n",
       "      <th>8</th>\n",
       "      <td>4</td>\n",
       "      <td>8</td>\n",
       "      <td>Linear</td>\n",
       "      <td>Sequential</td>\n",
       "      <td>pre</td>\n",
       "      <td>51200</td>\n",
       "      <td>2097152</td>\n",
       "      <td>229888</td>\n",
       "      <td>(32, 100)</td>\n",
       "      <td>None</td>\n",
       "    </tr>\n",
       "    <tr>\n",
       "      <th>9</th>\n",
       "      <td>4</td>\n",
       "      <td>9</td>\n",
       "      <td>Linear</td>\n",
       "      <td>Sequential</td>\n",
       "      <td>fwd</td>\n",
       "      <td>51712</td>\n",
       "      <td>2097152</td>\n",
       "      <td>230400</td>\n",
       "      <td>(32, 100)</td>\n",
       "      <td>(2,)</td>\n",
       "    </tr>\n",
       "    <tr>\n",
       "      <th>10</th>\n",
       "      <td>4</td>\n",
       "      <td>10</td>\n",
       "      <td>Linear</td>\n",
       "      <td>Sequential</td>\n",
       "      <td>bwd</td>\n",
       "      <td>67072</td>\n",
       "      <td>2097152</td>\n",
       "      <td>245760</td>\n",
       "      <td>(2,)</td>\n",
       "      <td>(32, 2)</td>\n",
       "    </tr>\n",
       "    <tr>\n",
       "      <th>11</th>\n",
       "      <td>3</td>\n",
       "      <td>11</td>\n",
       "      <td>Linear</td>\n",
       "      <td>Sequential</td>\n",
       "      <td>bwd</td>\n",
       "      <td>107520</td>\n",
       "      <td>2097152</td>\n",
       "      <td>286208</td>\n",
       "      <td>(100,)</td>\n",
       "      <td>(32, 100)</td>\n",
       "    </tr>\n",
       "    <tr>\n",
       "      <th>12</th>\n",
       "      <td>2</td>\n",
       "      <td>12</td>\n",
       "      <td>Linear</td>\n",
       "      <td>Sequential</td>\n",
       "      <td>bwd</td>\n",
       "      <td>135680</td>\n",
       "      <td>2097152</td>\n",
       "      <td>314368</td>\n",
       "      <td>(100,)</td>\n",
       "      <td>(32, 100)</td>\n",
       "    </tr>\n",
       "    <tr>\n",
       "      <th>13</th>\n",
       "      <td>1</td>\n",
       "      <td>13</td>\n",
       "      <td>Linear</td>\n",
       "      <td>Sequential</td>\n",
       "      <td>bwd</td>\n",
       "      <td>163840</td>\n",
       "      <td>2097152</td>\n",
       "      <td>342528</td>\n",
       "      <td>(100,)</td>\n",
       "      <td>(32, 100)</td>\n",
       "    </tr>\n",
       "    <tr>\n",
       "      <th>14</th>\n",
       "      <td>0</td>\n",
       "      <td>14</td>\n",
       "      <td>Linear</td>\n",
       "      <td>Sequential</td>\n",
       "      <td>bwd</td>\n",
       "      <td>179200</td>\n",
       "      <td>2097152</td>\n",
       "      <td>357888</td>\n",
       "      <td>(100,)</td>\n",
       "      <td>(32, 100)</td>\n",
       "    </tr>\n",
       "  </tbody>\n",
       "</table>\n",
       "</div>"
      ],
      "text/plain": [
       "    layer_idx  call_idx layer_type  experiment hook_type  mem_all  \\\n",
       "0           0         0     Linear  Sequential       pre        0   \n",
       "1           0         1     Linear  Sequential       fwd    12800   \n",
       "2           1         2     Linear  Sequential       pre    12800   \n",
       "3           1         3     Linear  Sequential       fwd    25600   \n",
       "4           2         4     Linear  Sequential       pre    25600   \n",
       "5           2         5     Linear  Sequential       fwd    38400   \n",
       "6           3         6     Linear  Sequential       pre    38400   \n",
       "7           3         7     Linear  Sequential       fwd    51200   \n",
       "8           4         8     Linear  Sequential       pre    51200   \n",
       "9           4         9     Linear  Sequential       fwd    51712   \n",
       "10          4        10     Linear  Sequential       bwd    67072   \n",
       "11          3        11     Linear  Sequential       bwd   107520   \n",
       "12          2        12     Linear  Sequential       bwd   135680   \n",
       "13          1        13     Linear  Sequential       bwd   163840   \n",
       "14          0        14     Linear  Sequential       bwd   179200   \n",
       "\n",
       "    mem_reservd  max_all input_shape output_shape  \n",
       "0       2097152   178688   (32, 100)         None  \n",
       "1       2097152   191488   (32, 100)       (100,)  \n",
       "2       2097152   191488   (32, 100)         None  \n",
       "3       2097152   204288   (32, 100)       (100,)  \n",
       "4       2097152   204288   (32, 100)         None  \n",
       "5       2097152   217088   (32, 100)       (100,)  \n",
       "6       2097152   217088   (32, 100)         None  \n",
       "7       2097152   229888   (32, 100)       (100,)  \n",
       "8       2097152   229888   (32, 100)         None  \n",
       "9       2097152   230400   (32, 100)         (2,)  \n",
       "10      2097152   245760        (2,)      (32, 2)  \n",
       "11      2097152   286208      (100,)    (32, 100)  \n",
       "12      2097152   314368      (100,)    (32, 100)  \n",
       "13      2097152   342528      (100,)    (32, 100)  \n",
       "14      2097152   357888      (100,)    (32, 100)  "
      ]
     },
     "execution_count": null,
     "metadata": {},
     "output_type": "execute_result"
    },
    {
     "data": {
      "image/png": "[encoded data removed]",
      "text/plain": [
       "<Figure size 432x288 with 1 Axes>"
      ]
     },
     "metadata": {
      "needs_background": "light"
     },
     "output_type": "display_data"
    }
   ],
   "source": [
    "#cuda\n",
    "mem_log1 = memprofile(simple_model(), xb, yb)\n",
    "mem_log1"
   ]
  },
  {
   "cell_type": "code",
   "execution_count": null,
   "metadata": {},
   "outputs": [
    {
     "data": {
      "image/png": "[encoded data removed]",
      "text/plain": [
       "<Figure size 432x288 with 1 Axes>"
      ]
     },
     "metadata": {
      "needs_background": "light"
     },
     "output_type": "display_data"
    }
   ],
   "source": [
    "#hide\n",
    "#skip\n",
    "plot_log(mem_log1)"
   ]
  },
  {
   "cell_type": "code",
   "execution_count": null,
   "metadata": {},
   "outputs": [
    {
     "data": {
      "image/png": "[encoded data removed]",
      "text/plain": [
       "<Figure size 432x288 with 1 Axes>"
      ]
     },
     "metadata": {
      "needs_background": "light"
     },
     "output_type": "display_data"
    }
   ],
   "source": [
    "#hide\n",
    "#cuda\n",
    "with torch.cuda.amp.autocast():\n",
    "    mem_log = memprofile(simple_model(), xb, yb)"
   ]
  },
  {
   "cell_type": "code",
   "execution_count": null,
   "metadata": {},
   "outputs": [
    {
     "data": {
      "image/png": "[encoded data removed]",
      "text/plain": [
       "<Figure size 432x288 with 1 Axes>"
      ]
     },
     "metadata": {
      "needs_background": "light"
     },
     "output_type": "display_data"
    }
   ],
   "source": [
    "#cuda\n",
    "mem_log2 = memprofile(simple_model(), xb, yb, fp16=True)"
   ]
  },
  {
   "cell_type": "code",
   "execution_count": null,
   "metadata": {},
   "outputs": [
    {
     "data": {
      "image/png": "[encoded data removed]",
      "text/plain": [
       "<Figure size 720x288 with 1 Axes>"
      ]
     },
     "metadata": {
      "needs_background": "light"
     },
     "output_type": "display_data"
    }
   ],
   "source": [
    "#hide\n",
    "#cuda\n",
    "plot_logs(mem_log1, mem_log2)"
   ]
  },
  {
   "cell_type": "code",
   "execution_count": null,
   "metadata": {},
   "outputs": [],
   "source": [
    "#export\n",
    "class MemProfileCallback(Callback):\n",
    "    \"Cancels batch after backward to avoid opt.step()\"\n",
    "    def before_batch(self):\n",
    "        self._split(self.dls.one_batch())\n",
    "        self.model.to(self.dls.device)\n",
    "        self.create_opt()\n",
    "        self.model.train()\n",
    "        self.learn.training = True\n",
    "    def after_backward(self):\n",
    "        print('Batch canceled')\n",
    "        raise CancelBatchException"
   ]
  },
  {
   "cell_type": "code",
   "execution_count": null,
   "metadata": {},
   "outputs": [],
   "source": [
    "#export\n",
    "@patch\n",
    "def profile_memory(self:Learner, plot=True):\n",
    "    \"\"\"\n",
    "    !!WIP!!\n",
    "    Records memory stats for single forward-and-backward pass\n",
    "    \"\"\"\n",
    "    with MemHooks(flatten_model(self.model), type(self.model).__name__) as h:\n",
    "        #self._split(self.dls.one_batch())\n",
    "        #self.model.to(self.dls.device)\n",
    "        prealloc = torch.cuda.memory_allocated()\n",
    "        with self.added_cbs(MemProfileCallback()), self.no_logging():\n",
    "            self('before_batch')\n",
    "            try: self._do_one_batch()\n",
    "            except CancelBatchException:\n",
    "                for p in self.model.parameters(): p.grad=None\n",
    "        mem_log = pd.DataFrame(h.mem_log, copy=True)\n",
    "    mem_log['mem_all'] = mem_log['mem_all'] - prealloc\n",
    "    if plot:\n",
    "        plot_log(mem_log)\n",
    "        \n",
    "    return mem_log"
   ]
  },
  {
   "cell_type": "code",
   "execution_count": null,
   "metadata": {},
   "outputs": [],
   "source": [
    "#export\n",
    "def simple_dls():\n",
    "    train = [(torch.randn(100), torch.randint(2, (1,))) for _ in range(800)]\n",
    "    valid = [(torch.randn(100), torch.randint(2, (1,))) for _ in range(200)]\n",
    "    return DataLoaders.from_dsets(train, valid, bs=16, device='cuda')"
   ]
  },
  {
   "cell_type": "code",
   "execution_count": null,
   "metadata": {},
   "outputs": [],
   "source": [
    "#cuda\n",
    "dls = simple_dls()"
   ]
  },
  {
   "cell_type": "code",
   "execution_count": null,
   "metadata": {},
   "outputs": [],
   "source": [
    "#cuda\n",
    "learn = Learner(dls, simple_model(), loss_func=CrossEntropyLossFlat())"
   ]
  },
  {
   "cell_type": "code",
   "execution_count": null,
   "metadata": {},
   "outputs": [
    {
     "data": {
      "image/png": "[encoded data removed]",
      "text/plain": [
       "<Figure size 432x288 with 1 Axes>"
      ]
     },
     "metadata": {
      "needs_background": "light"
     },
     "output_type": "display_data"
    }
   ],
   "source": [
    "#cuda\n",
    "mem_log1 = learn.profile_memory()"
   ]
  },
  {
   "cell_type": "code",
   "execution_count": null,
   "metadata": {},
   "outputs": [
    {
     "data": {
      "text/html": [
       "<div>\n",
       "<style scoped>\n",
       "    .dataframe tbody tr th:only-of-type {\n",
       "        vertical-align: middle;\n",
       "    }\n",
       "\n",
       "    .dataframe tbody tr th {\n",
       "        vertical-align: top;\n",
       "    }\n",
       "\n",
       "    .dataframe thead th {\n",
       "        text-align: right;\n",
       "    }\n",
       "</style>\n",
       "<table border=\"1\" class=\"dataframe\">\n",
       "  <thead>\n",
       "    <tr style=\"text-align: right;\">\n",
       "      <th></th>\n",
       "      <th>layer_idx</th>\n",
       "      <th>call_idx</th>\n",
       "      <th>layer_type</th>\n",
       "      <th>experiment</th>\n",
       "      <th>hook_type</th>\n",
       "      <th>mem_all</th>\n",
       "      <th>mem_reservd</th>\n",
       "      <th>max_all</th>\n",
       "      <th>input_shape</th>\n",
       "      <th>output_shape</th>\n",
       "    </tr>\n",
       "  </thead>\n",
       "  <tbody>\n",
       "    <tr>\n",
       "      <th>0</th>\n",
       "      <td>0</td>\n",
       "      <td>0</td>\n",
       "      <td>Linear</td>\n",
       "      <td>Sequential</td>\n",
       "      <td>pre</td>\n",
       "      <td>172544</td>\n",
       "      <td>2097152</td>\n",
       "      <td>368128</td>\n",
       "      <td>(16, 100)</td>\n",
       "      <td>None</td>\n",
       "    </tr>\n",
       "    <tr>\n",
       "      <th>1</th>\n",
       "      <td>0</td>\n",
       "      <td>1</td>\n",
       "      <td>Linear</td>\n",
       "      <td>Sequential</td>\n",
       "      <td>fwd</td>\n",
       "      <td>179200</td>\n",
       "      <td>2097152</td>\n",
       "      <td>368128</td>\n",
       "      <td>(16, 100)</td>\n",
       "      <td>(100,)</td>\n",
       "    </tr>\n",
       "    <tr>\n",
       "      <th>2</th>\n",
       "      <td>1</td>\n",
       "      <td>2</td>\n",
       "      <td>Linear</td>\n",
       "      <td>Sequential</td>\n",
       "      <td>pre</td>\n",
       "      <td>179200</td>\n",
       "      <td>2097152</td>\n",
       "      <td>368128</td>\n",
       "      <td>(16, 100)</td>\n",
       "      <td>None</td>\n",
       "    </tr>\n",
       "    <tr>\n",
       "      <th>3</th>\n",
       "      <td>1</td>\n",
       "      <td>3</td>\n",
       "      <td>Linear</td>\n",
       "      <td>Sequential</td>\n",
       "      <td>fwd</td>\n",
       "      <td>185856</td>\n",
       "      <td>2097152</td>\n",
       "      <td>368128</td>\n",
       "      <td>(16, 100)</td>\n",
       "      <td>(100,)</td>\n",
       "    </tr>\n",
       "    <tr>\n",
       "      <th>4</th>\n",
       "      <td>2</td>\n",
       "      <td>4</td>\n",
       "      <td>Linear</td>\n",
       "      <td>Sequential</td>\n",
       "      <td>pre</td>\n",
       "      <td>185856</td>\n",
       "      <td>2097152</td>\n",
       "      <td>368128</td>\n",
       "      <td>(16, 100)</td>\n",
       "      <td>None</td>\n",
       "    </tr>\n",
       "    <tr>\n",
       "      <th>5</th>\n",
       "      <td>2</td>\n",
       "      <td>5</td>\n",
       "      <td>Linear</td>\n",
       "      <td>Sequential</td>\n",
       "      <td>fwd</td>\n",
       "      <td>192512</td>\n",
       "      <td>2097152</td>\n",
       "      <td>368128</td>\n",
       "      <td>(16, 100)</td>\n",
       "      <td>(100,)</td>\n",
       "    </tr>\n",
       "    <tr>\n",
       "      <th>6</th>\n",
       "      <td>3</td>\n",
       "      <td>6</td>\n",
       "      <td>Linear</td>\n",
       "      <td>Sequential</td>\n",
       "      <td>pre</td>\n",
       "      <td>192512</td>\n",
       "      <td>2097152</td>\n",
       "      <td>368128</td>\n",
       "      <td>(16, 100)</td>\n",
       "      <td>None</td>\n",
       "    </tr>\n",
       "    <tr>\n",
       "      <th>7</th>\n",
       "      <td>3</td>\n",
       "      <td>7</td>\n",
       "      <td>Linear</td>\n",
       "      <td>Sequential</td>\n",
       "      <td>fwd</td>\n",
       "      <td>199168</td>\n",
       "      <td>2097152</td>\n",
       "      <td>368128</td>\n",
       "      <td>(16, 100)</td>\n",
       "      <td>(100,)</td>\n",
       "    </tr>\n",
       "    <tr>\n",
       "      <th>8</th>\n",
       "      <td>4</td>\n",
       "      <td>8</td>\n",
       "      <td>Linear</td>\n",
       "      <td>Sequential</td>\n",
       "      <td>pre</td>\n",
       "      <td>199168</td>\n",
       "      <td>2097152</td>\n",
       "      <td>368128</td>\n",
       "      <td>(16, 100)</td>\n",
       "      <td>None</td>\n",
       "    </tr>\n",
       "    <tr>\n",
       "      <th>9</th>\n",
       "      <td>4</td>\n",
       "      <td>9</td>\n",
       "      <td>Linear</td>\n",
       "      <td>Sequential</td>\n",
       "      <td>fwd</td>\n",
       "      <td>199680</td>\n",
       "      <td>2097152</td>\n",
       "      <td>368128</td>\n",
       "      <td>(16, 100)</td>\n",
       "      <td>(2,)</td>\n",
       "    </tr>\n",
       "    <tr>\n",
       "      <th>10</th>\n",
       "      <td>4</td>\n",
       "      <td>10</td>\n",
       "      <td>Linear</td>\n",
       "      <td>Sequential</td>\n",
       "      <td>bwd</td>\n",
       "      <td>209920</td>\n",
       "      <td>2097152</td>\n",
       "      <td>368128</td>\n",
       "      <td>(2,)</td>\n",
       "      <td>(16, 2)</td>\n",
       "    </tr>\n",
       "    <tr>\n",
       "      <th>11</th>\n",
       "      <td>3</td>\n",
       "      <td>11</td>\n",
       "      <td>Linear</td>\n",
       "      <td>Sequential</td>\n",
       "      <td>bwd</td>\n",
       "      <td>250368</td>\n",
       "      <td>2097152</td>\n",
       "      <td>368128</td>\n",
       "      <td>(100,)</td>\n",
       "      <td>(16, 100)</td>\n",
       "    </tr>\n",
       "    <tr>\n",
       "      <th>12</th>\n",
       "      <td>2</td>\n",
       "      <td>12</td>\n",
       "      <td>Linear</td>\n",
       "      <td>Sequential</td>\n",
       "      <td>bwd</td>\n",
       "      <td>284672</td>\n",
       "      <td>2097152</td>\n",
       "      <td>368128</td>\n",
       "      <td>(100,)</td>\n",
       "      <td>(16, 100)</td>\n",
       "    </tr>\n",
       "    <tr>\n",
       "      <th>13</th>\n",
       "      <td>1</td>\n",
       "      <td>13</td>\n",
       "      <td>Linear</td>\n",
       "      <td>Sequential</td>\n",
       "      <td>bwd</td>\n",
       "      <td>318976</td>\n",
       "      <td>2097152</td>\n",
       "      <td>368128</td>\n",
       "      <td>(100,)</td>\n",
       "      <td>(16, 100)</td>\n",
       "    </tr>\n",
       "    <tr>\n",
       "      <th>14</th>\n",
       "      <td>0</td>\n",
       "      <td>14</td>\n",
       "      <td>Linear</td>\n",
       "      <td>Sequential</td>\n",
       "      <td>bwd</td>\n",
       "      <td>346624</td>\n",
       "      <td>2097152</td>\n",
       "      <td>368128</td>\n",
       "      <td>(100,)</td>\n",
       "      <td>(16, 100)</td>\n",
       "    </tr>\n",
       "  </tbody>\n",
       "</table>\n",
       "</div>"
      ],
      "text/plain": [
       "    layer_idx  call_idx layer_type  experiment hook_type  mem_all  \\\n",
       "0           0         0     Linear  Sequential       pre   172544   \n",
       "1           0         1     Linear  Sequential       fwd   179200   \n",
       "2           1         2     Linear  Sequential       pre   179200   \n",
       "3           1         3     Linear  Sequential       fwd   185856   \n",
       "4           2         4     Linear  Sequential       pre   185856   \n",
       "5           2         5     Linear  Sequential       fwd   192512   \n",
       "6           3         6     Linear  Sequential       pre   192512   \n",
       "7           3         7     Linear  Sequential       fwd   199168   \n",
       "8           4         8     Linear  Sequential       pre   199168   \n",
       "9           4         9     Linear  Sequential       fwd   199680   \n",
       "10          4        10     Linear  Sequential       bwd   209920   \n",
       "11          3        11     Linear  Sequential       bwd   250368   \n",
       "12          2        12     Linear  Sequential       bwd   284672   \n",
       "13          1        13     Linear  Sequential       bwd   318976   \n",
       "14          0        14     Linear  Sequential       bwd   346624   \n",
       "\n",
       "    mem_reservd  max_all input_shape output_shape  \n",
       "0       2097152   368128   (16, 100)         None  \n",
       "1       2097152   368128   (16, 100)       (100,)  \n",
       "2       2097152   368128   (16, 100)         None  \n",
       "3       2097152   368128   (16, 100)       (100,)  \n",
       "4       2097152   368128   (16, 100)         None  \n",
       "5       2097152   368128   (16, 100)       (100,)  \n",
       "6       2097152   368128   (16, 100)         None  \n",
       "7       2097152   368128   (16, 100)       (100,)  \n",
       "8       2097152   368128   (16, 100)         None  \n",
       "9       2097152   368128   (16, 100)         (2,)  \n",
       "10      2097152   368128        (2,)      (16, 2)  \n",
       "11      2097152   368128      (100,)    (16, 100)  \n",
       "12      2097152   368128      (100,)    (16, 100)  \n",
       "13      2097152   368128      (100,)    (16, 100)  \n",
       "14      2097152   368128      (100,)    (16, 100)  "
      ]
     },
     "execution_count": null,
     "metadata": {},
     "output_type": "execute_result"
    }
   ],
   "source": [
    "#cuda\n",
    "mem_log1"
   ]
  },
  {
   "cell_type": "markdown",
   "metadata": {},
   "source": [
    "Similar to fastai `Hooks` class, `MemHooks` can be used as context manager:"
   ]
  },
  {
   "cell_type": "code",
   "execution_count": null,
   "metadata": {},
   "outputs": [
    {
     "data": {
      "text/html": [
       "<table border=\"1\" class=\"dataframe\">\n",
       "  <thead>\n",
       "    <tr style=\"text-align: left;\">\n",
       "      <th>epoch</th>\n",
       "      <th>train_loss</th>\n",
       "      <th>valid_loss</th>\n",
       "      <th>time</th>\n",
       "    </tr>\n",
       "  </thead>\n",
       "  <tbody>\n",
       "    <tr>\n",
       "      <td>0</td>\n",
       "      <td>00:00</td>\n",
       "    </tr>\n",
       "  </tbody>\n",
       "</table>"
      ],
      "text/plain": [
       "<IPython.core.display.HTML object>"
      ]
     },
     "metadata": {},
     "output_type": "display_data"
    },
    {
     "data": {
      "image/png": "[encoded data removed]",
      "text/plain": [
       "<Figure size 432x288 with 1 Axes>"
      ]
     },
     "metadata": {
      "needs_background": "light"
     },
     "output_type": "display_data"
    }
   ],
   "source": [
    "#slow\n",
    "with MemHooks(flatten_model(learn.model), 'test') as h:\n",
    "    learn.fit(1, 1e-3, cbs=ShortEpochCallback(pct=0.1))\n",
    "mem_log2 = pd.DataFrame(h.mem_log, copy=True)\n",
    "plot_log(mem_log2)"
   ]
  },
  {
   "cell_type": "markdown",
   "metadata": {},
   "source": [
    "## Memory callback"
   ]
  },
  {
   "cell_type": "code",
   "execution_count": null,
   "metadata": {},
   "outputs": [],
   "source": [
    "#export\n",
    "class MemStatsCallback(HookCallback):\n",
    "    \"Registers memory hooks on modules in `ms`\"\n",
    "    def __init__(self, ms=None, label=None, remove_end=True):\n",
    "        store_attr()\n",
    "        self.prealloc = torch.cuda.memory_allocated()\n",
    "        self.every = None\n",
    "    \n",
    "    def _register(self): self.hooks = MemHooks(self.ms, name=self.label)\n",
    "    \n",
    "    def before_fit(self):\n",
    "        \"Register `self.hooks` on `self.ms`.\"\n",
    "        if self.ms is None: self.ms = [m for m in flatten_model(self.model) if has_params(m)]\n",
    "        if self.every is None: self._register()\n",
    "        \n",
    "    def after_fit(self):\n",
    "        self.stats = pd.DataFrame(self.hooks.mem_log, copy=True)\n",
    "        self.stats['mem_all'] = self.stats['mem_all'] - self.prealloc\n",
    "        if self.remove_end: self._remove()\n",
    "    \n",
    "    def plot(self): plot_log(self.stats)"
   ]
  },
  {
   "cell_type": "markdown",
   "metadata": {},
   "source": [
    "`MemStatsCallback` can be used to profile memory usage during `fit`:"
   ]
  },
  {
   "cell_type": "code",
   "execution_count": null,
   "metadata": {},
   "outputs": [
    {
     "data": {
      "text/html": [
       "<table border=\"1\" class=\"dataframe\">\n",
       "  <thead>\n",
       "    <tr style=\"text-align: left;\">\n",
       "      <th>epoch</th>\n",
       "      <th>train_loss</th>\n",
       "      <th>valid_loss</th>\n",
       "      <th>time</th>\n",
       "    </tr>\n",
       "  </thead>\n",
       "  <tbody>\n",
       "    <tr>\n",
       "      <td>0</td>\n",
       "      <td>00:00</td>\n",
       "    </tr>\n",
       "  </tbody>\n",
       "</table>"
      ],
      "text/plain": [
       "<IPython.core.display.HTML object>"
      ]
     },
     "metadata": {},
     "output_type": "display_data"
    },
    {
     "data": {
      "image/png": "[encoded data removed]",
      "text/plain": [
       "<Figure size 432x288 with 1 Axes>"
      ]
     },
     "metadata": {
      "needs_background": "light"
     },
     "output_type": "display_data"
    }
   ],
   "source": [
    "#cuda\n",
    "learn = Learner(dls, simple_model(), loss_func=CrossEntropyLossFlat(), cbs=MemStatsCallback(), opt_func=SGD).to_fp16()\n",
    "learn.fit(1, 1e-3, cbs=[ShortEpochCallback(pct=0.1)])\n",
    "learn.mem_stats.plot()"
   ]
  },
  {
   "cell_type": "markdown",
   "metadata": {},
   "source": [
    "For example it might be used to compare memory allocation for different optimizers:"
   ]
  },
  {
   "cell_type": "code",
   "execution_count": null,
   "metadata": {},
   "outputs": [
    {
     "data": {
      "text/html": [
       "<table border=\"1\" class=\"dataframe\">\n",
       "  <thead>\n",
       "    <tr style=\"text-align: left;\">\n",
       "      <th>epoch</th>\n",
       "      <th>train_loss</th>\n",
       "      <th>valid_loss</th>\n",
       "      <th>time</th>\n",
       "    </tr>\n",
       "  </thead>\n",
       "  <tbody>\n",
       "    <tr>\n",
       "      <td>0</td>\n",
       "      <td>00:00</td>\n",
       "    </tr>\n",
       "  </tbody>\n",
       "</table>"
      ],
      "text/plain": [
       "<IPython.core.display.HTML object>"
      ]
     },
     "metadata": {},
     "output_type": "display_data"
    },
    {
     "data": {
      "image/png": "[encoded data removed]",
      "text/plain": [
       "<Figure size 432x288 with 1 Axes>"
      ]
     },
     "metadata": {
      "needs_background": "light"
     },
     "output_type": "display_data"
    }
   ],
   "source": [
    "#cuda\n",
    "learn = Learner(dls, simple_model(), loss_func=CrossEntropyLossFlat(), cbs=MemStatsCallback(), opt_func=SGD)\n",
    "learn.fit(1, 1e-3, cbs=[ShortEpochCallback(pct=0.1)])\n",
    "learn.mem_stats.plot()"
   ]
  },
  {
   "cell_type": "code",
   "execution_count": null,
   "metadata": {},
   "outputs": [
    {
     "data": {
      "text/html": [
       "<div>\n",
       "<style scoped>\n",
       "    .dataframe tbody tr th:only-of-type {\n",
       "        vertical-align: middle;\n",
       "    }\n",
       "\n",
       "    .dataframe tbody tr th {\n",
       "        vertical-align: top;\n",
       "    }\n",
       "\n",
       "    .dataframe thead th {\n",
       "        text-align: right;\n",
       "    }\n",
       "</style>\n",
       "<table border=\"1\" class=\"dataframe\">\n",
       "  <thead>\n",
       "    <tr style=\"text-align: right;\">\n",
       "      <th></th>\n",
       "      <th>layer_idx</th>\n",
       "      <th>call_idx</th>\n",
       "      <th>layer_type</th>\n",
       "      <th>experiment</th>\n",
       "      <th>hook_type</th>\n",
       "      <th>mem_all</th>\n",
       "      <th>mem_reservd</th>\n",
       "      <th>max_all</th>\n",
       "      <th>input_shape</th>\n",
       "      <th>output_shape</th>\n",
       "    </tr>\n",
       "  </thead>\n",
       "  <tbody>\n",
       "    <tr>\n",
       "      <th>0</th>\n",
       "      <td>0</td>\n",
       "      <td>0</td>\n",
       "      <td>Linear</td>\n",
       "      <td>None</td>\n",
       "      <td>pre</td>\n",
       "      <td>172544</td>\n",
       "      <td>2097152</td>\n",
       "      <td>1180160</td>\n",
       "      <td>(16, 100)</td>\n",
       "      <td>None</td>\n",
       "    </tr>\n",
       "    <tr>\n",
       "      <th>1</th>\n",
       "      <td>0</td>\n",
       "      <td>1</td>\n",
       "      <td>Linear</td>\n",
       "      <td>None</td>\n",
       "      <td>fwd</td>\n",
       "      <td>179200</td>\n",
       "      <td>2097152</td>\n",
       "      <td>1186816</td>\n",
       "      <td>(16, 100)</td>\n",
       "      <td>(100,)</td>\n",
       "    </tr>\n",
       "    <tr>\n",
       "      <th>2</th>\n",
       "      <td>1</td>\n",
       "      <td>2</td>\n",
       "      <td>Linear</td>\n",
       "      <td>None</td>\n",
       "      <td>pre</td>\n",
       "      <td>179200</td>\n",
       "      <td>2097152</td>\n",
       "      <td>1186816</td>\n",
       "      <td>(16, 100)</td>\n",
       "      <td>None</td>\n",
       "    </tr>\n",
       "    <tr>\n",
       "      <th>3</th>\n",
       "      <td>1</td>\n",
       "      <td>3</td>\n",
       "      <td>Linear</td>\n",
       "      <td>None</td>\n",
       "      <td>fwd</td>\n",
       "      <td>185856</td>\n",
       "      <td>2097152</td>\n",
       "      <td>1193472</td>\n",
       "      <td>(16, 100)</td>\n",
       "      <td>(100,)</td>\n",
       "    </tr>\n",
       "    <tr>\n",
       "      <th>4</th>\n",
       "      <td>2</td>\n",
       "      <td>4</td>\n",
       "      <td>Linear</td>\n",
       "      <td>None</td>\n",
       "      <td>pre</td>\n",
       "      <td>185856</td>\n",
       "      <td>2097152</td>\n",
       "      <td>1193472</td>\n",
       "      <td>(16, 100)</td>\n",
       "      <td>None</td>\n",
       "    </tr>\n",
       "    <tr>\n",
       "      <th>...</th>\n",
       "      <td>...</td>\n",
       "      <td>...</td>\n",
       "      <td>...</td>\n",
       "      <td>...</td>\n",
       "      <td>...</td>\n",
       "      <td>...</td>\n",
       "      <td>...</td>\n",
       "      <td>...</td>\n",
       "      <td>...</td>\n",
       "      <td>...</td>\n",
       "    </tr>\n",
       "    <tr>\n",
       "      <th>115</th>\n",
       "      <td>2</td>\n",
       "      <td>115</td>\n",
       "      <td>Linear</td>\n",
       "      <td>None</td>\n",
       "      <td>fwd</td>\n",
       "      <td>352768</td>\n",
       "      <td>2097152</td>\n",
       "      <td>1428992</td>\n",
       "      <td>(16, 100)</td>\n",
       "      <td>(100,)</td>\n",
       "    </tr>\n",
       "    <tr>\n",
       "      <th>116</th>\n",
       "      <td>3</td>\n",
       "      <td>116</td>\n",
       "      <td>Linear</td>\n",
       "      <td>None</td>\n",
       "      <td>pre</td>\n",
       "      <td>346112</td>\n",
       "      <td>2097152</td>\n",
       "      <td>1428992</td>\n",
       "      <td>(16, 100)</td>\n",
       "      <td>None</td>\n",
       "    </tr>\n",
       "    <tr>\n",
       "      <th>117</th>\n",
       "      <td>3</td>\n",
       "      <td>117</td>\n",
       "      <td>Linear</td>\n",
       "      <td>None</td>\n",
       "      <td>fwd</td>\n",
       "      <td>352768</td>\n",
       "      <td>2097152</td>\n",
       "      <td>1428992</td>\n",
       "      <td>(16, 100)</td>\n",
       "      <td>(100,)</td>\n",
       "    </tr>\n",
       "    <tr>\n",
       "      <th>118</th>\n",
       "      <td>4</td>\n",
       "      <td>118</td>\n",
       "      <td>Linear</td>\n",
       "      <td>None</td>\n",
       "      <td>pre</td>\n",
       "      <td>346112</td>\n",
       "      <td>2097152</td>\n",
       "      <td>1428992</td>\n",
       "      <td>(16, 100)</td>\n",
       "      <td>None</td>\n",
       "    </tr>\n",
       "    <tr>\n",
       "      <th>119</th>\n",
       "      <td>4</td>\n",
       "      <td>119</td>\n",
       "      <td>Linear</td>\n",
       "      <td>None</td>\n",
       "      <td>fwd</td>\n",
       "      <td>346624</td>\n",
       "      <td>2097152</td>\n",
       "      <td>1428992</td>\n",
       "      <td>(16, 100)</td>\n",
       "      <td>(2,)</td>\n",
       "    </tr>\n",
       "  </tbody>\n",
       "</table>\n",
       "<p>120 rows × 10 columns</p>\n",
       "</div>"
      ],
      "text/plain": [
       "     layer_idx  call_idx layer_type experiment hook_type  mem_all  \\\n",
       "0            0         0     Linear       None       pre   172544   \n",
       "1            0         1     Linear       None       fwd   179200   \n",
       "2            1         2     Linear       None       pre   179200   \n",
       "3            1         3     Linear       None       fwd   185856   \n",
       "4            2         4     Linear       None       pre   185856   \n",
       "..         ...       ...        ...        ...       ...      ...   \n",
       "115          2       115     Linear       None       fwd   352768   \n",
       "116          3       116     Linear       None       pre   346112   \n",
       "117          3       117     Linear       None       fwd   352768   \n",
       "118          4       118     Linear       None       pre   346112   \n",
       "119          4       119     Linear       None       fwd   346624   \n",
       "\n",
       "     mem_reservd  max_all input_shape output_shape  \n",
       "0        2097152  1180160   (16, 100)         None  \n",
       "1        2097152  1186816   (16, 100)       (100,)  \n",
       "2        2097152  1186816   (16, 100)         None  \n",
       "3        2097152  1193472   (16, 100)       (100,)  \n",
       "4        2097152  1193472   (16, 100)         None  \n",
       "..           ...      ...         ...          ...  \n",
       "115      2097152  1428992   (16, 100)       (100,)  \n",
       "116      2097152  1428992   (16, 100)         None  \n",
       "117      2097152  1428992   (16, 100)       (100,)  \n",
       "118      2097152  1428992   (16, 100)         None  \n",
       "119      2097152  1428992   (16, 100)         (2,)  \n",
       "\n",
       "[120 rows x 10 columns]"
      ]
     },
     "execution_count": null,
     "metadata": {},
     "output_type": "execute_result"
    }
   ],
   "source": [
    "#cuda\n",
    "learn.mem_stats.stats"
   ]
  },
  {
   "cell_type": "markdown",
   "metadata": {},
   "source": [
    "When using Adam more memory is allocated:"
   ]
  },
  {
   "cell_type": "code",
   "execution_count": null,
   "metadata": {},
   "outputs": [
    {
     "data": {
      "text/html": [
       "<table border=\"1\" class=\"dataframe\">\n",
       "  <thead>\n",
       "    <tr style=\"text-align: left;\">\n",
       "      <th>epoch</th>\n",
       "      <th>train_loss</th>\n",
       "      <th>valid_loss</th>\n",
       "      <th>time</th>\n",
       "    </tr>\n",
       "  </thead>\n",
       "  <tbody>\n",
       "    <tr>\n",
       "      <td>0</td>\n",
       "      <td>00:01</td>\n",
       "    </tr>\n",
       "  </tbody>\n",
       "</table>"
      ],
      "text/plain": [
       "<IPython.core.display.HTML object>"
      ]
     },
     "metadata": {},
     "output_type": "display_data"
    },
    {
     "data": {
      "image/png": "[encoded data removed]",
      "text/plain": [
       "<Figure size 432x288 with 1 Axes>"
      ]
     },
     "metadata": {
      "needs_background": "light"
     },
     "output_type": "display_data"
    }
   ],
   "source": [
    "#cuda\n",
    "learn = Learner(dls, simple_model(), loss_func=CrossEntropyLossFlat(), cbs=MemStatsCallback(), opt_func=Adam)\n",
    "learn.fit(1, 1e-3, cbs=[ShortEpochCallback(pct=0.1)])\n",
    "learn.mem_stats.plot()"
   ]
  },
  {
   "cell_type": "code",
   "execution_count": null,
   "metadata": {},
   "outputs": [
    {
     "name": "stdout",
     "output_type": "stream",
     "text": [
      "Converted 00_core.ipynb.\n",
      "Converted index.ipynb.\n"
     ]
    }
   ],
   "source": [
    "#hide\n",
    "from nbdev.export import notebook2script; notebook2script()"
   ]
  },
  {
   "cell_type": "code",
   "execution_count": null,
   "metadata": {},
   "outputs": [],
   "source": []
  }
 ],
 "metadata": {
  "kernelspec": {
   "display_name": "Python [conda env:torchenv]",
   "language": "python",
   "name": "conda-env-torchenv-py"
  }
 },
 "nbformat": 4,
 "nbformat_minor": 4
}
